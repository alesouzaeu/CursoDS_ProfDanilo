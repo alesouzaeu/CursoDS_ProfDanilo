{
  "nbformat": 4,
  "nbformat_minor": 0,
  "metadata": {
    "colab": {
      "name": "Radar-Fifa.ipynb",
      "provenance": [],
      "collapsed_sections": [],
      "authorship_tag": "ABX9TyNxI1aU21orBrJpMKlAuCzC",
      "include_colab_link": true
    },
    "kernelspec": {
      "name": "python3",
      "display_name": "Python 3"
    }
  },
  "cells": [
    {
      "cell_type": "markdown",
      "metadata": {
        "id": "view-in-github",
        "colab_type": "text"
      },
      "source": [
        "<a href=\"https://colab.research.google.com/github/alesouzaeu/CursoDS_ProfDanilo/blob/master/Radar_Fifa.ipynb\" target=\"_parent\"><img src=\"https://colab.research.google.com/assets/colab-badge.svg\" alt=\"Open In Colab\"/></a>"
      ]
    },
    {
      "cell_type": "markdown",
      "metadata": {
        "id": "CKioW_bDG_OU",
        "colab_type": "text"
      },
      "source": [
        "#391 Radar chart with several individuals"
      ]
    },
    {
      "cell_type": "markdown",
      "metadata": {
        "id": "T0hhpkxoHFjT",
        "colab_type": "text"
      },
      "source": [
        "This example follows the chart #390 where only one individual was plotted on the radar chart. Once you understood the method, it is quite easy to apply it to more individuals.\n",
        "\n",
        "Note that if you have more than 2 or 3 individuals, I strongly advise to use faceting instead of displaying all of them on the same plot: spider charts become quickly unreadable."
      ]
    },
    {
      "cell_type": "code",
      "metadata": {
        "id": "xMzJIFhJHGEh",
        "colab_type": "code",
        "colab": {}
      },
      "source": [
        "# Libraries\n",
        "\n",
        "import matplotlib.pyplot as plt\n",
        "import pandas as pd\n",
        "from math import pi"
      ],
      "execution_count": 0,
      "outputs": []
    },
    {
      "cell_type": "code",
      "metadata": {
        "id": "hf9JKHZYOXL-",
        "colab_type": "code",
        "colab": {}
      },
      "source": [
        "# Set data\n",
        "df = pd.DataFrame({\n",
        "'Jogador': ['Neymar','Messi','C.Ronaldo','Ibrahimovich'],\n",
        "'Resistência': [93, 92, 90, 56],\n",
        "'Chute': [88, 89, 93, 88],\n",
        "'Passe': [82, 84, 82, 77],\n",
        "'Drible': [94, 96, 90, 78],\n",
        "'Defesa': [48, 44, 33, 34],\n",
        "'Cabeceio': [63, 69, 80, 78]\n",
        "})\n"
      ],
      "execution_count": 0,
      "outputs": []
    },
    {
      "cell_type": "code",
      "metadata": {
        "id": "j_0Zv0YPODLU",
        "colab_type": "code",
        "colab": {
          "base_uri": "https://localhost:8080/",
          "height": 171
        },
        "outputId": "f71e02aa-08a9-4aaa-e6d5-8be36f0e9829"
      },
      "source": [
        "df.head()"
      ],
      "execution_count": 135,
      "outputs": [
        {
          "output_type": "execute_result",
          "data": {
            "text/html": [
              "<div>\n",
              "<style scoped>\n",
              "    .dataframe tbody tr th:only-of-type {\n",
              "        vertical-align: middle;\n",
              "    }\n",
              "\n",
              "    .dataframe tbody tr th {\n",
              "        vertical-align: top;\n",
              "    }\n",
              "\n",
              "    .dataframe thead th {\n",
              "        text-align: right;\n",
              "    }\n",
              "</style>\n",
              "<table border=\"1\" class=\"dataframe\">\n",
              "  <thead>\n",
              "    <tr style=\"text-align: right;\">\n",
              "      <th></th>\n",
              "      <th>Colaborador</th>\n",
              "      <th>Resistência</th>\n",
              "      <th>Chute</th>\n",
              "      <th>Passe</th>\n",
              "      <th>Drible</th>\n",
              "      <th>Defesa</th>\n",
              "      <th>Cabeceio</th>\n",
              "    </tr>\n",
              "  </thead>\n",
              "  <tbody>\n",
              "    <tr>\n",
              "      <th>0</th>\n",
              "      <td>Neymar</td>\n",
              "      <td>93</td>\n",
              "      <td>88</td>\n",
              "      <td>82</td>\n",
              "      <td>94</td>\n",
              "      <td>48</td>\n",
              "      <td>63</td>\n",
              "    </tr>\n",
              "    <tr>\n",
              "      <th>1</th>\n",
              "      <td>Messi</td>\n",
              "      <td>92</td>\n",
              "      <td>89</td>\n",
              "      <td>84</td>\n",
              "      <td>96</td>\n",
              "      <td>44</td>\n",
              "      <td>69</td>\n",
              "    </tr>\n",
              "    <tr>\n",
              "      <th>2</th>\n",
              "      <td>C.Ronaldo</td>\n",
              "      <td>90</td>\n",
              "      <td>93</td>\n",
              "      <td>82</td>\n",
              "      <td>90</td>\n",
              "      <td>33</td>\n",
              "      <td>80</td>\n",
              "    </tr>\n",
              "    <tr>\n",
              "      <th>3</th>\n",
              "      <td>Ibrahimovich</td>\n",
              "      <td>56</td>\n",
              "      <td>88</td>\n",
              "      <td>77</td>\n",
              "      <td>78</td>\n",
              "      <td>34</td>\n",
              "      <td>78</td>\n",
              "    </tr>\n",
              "  </tbody>\n",
              "</table>\n",
              "</div>"
            ],
            "text/plain": [
              "    Colaborador  Resistência  Chute  Passe  Drible  Defesa  Cabeceio\n",
              "0        Neymar           93     88     82      94      48        63\n",
              "1         Messi           92     89     84      96      44        69\n",
              "2     C.Ronaldo           90     93     82      90      33        80\n",
              "3  Ibrahimovich           56     88     77      78      34        78"
            ]
          },
          "metadata": {
            "tags": []
          },
          "execution_count": 135
        }
      ]
    },
    {
      "cell_type": "code",
      "metadata": {
        "id": "5eZXnebmPi5t",
        "colab_type": "code",
        "colab": {
          "base_uri": "https://localhost:8080/",
          "height": 303
        },
        "outputId": "118e0b5a-6641-4998-f5db-3068c6e8b065"
      },
      "source": [
        " \n",
        "# ------- PART 1: Create background\n",
        " \n",
        "# number of variable\n",
        "categories=list(df)[1:]\n",
        "N = len(categories)\n",
        " \n",
        "# What will be the angle of each axis in the plot? (we divide the plot / number of variable)\n",
        "angles = [n / float(N) * 2 * pi for n in range(N)]\n",
        "angles += angles[:1]\n",
        " \n",
        "# Initialise the spider plot\n",
        "ax = plt.subplot(111, polar=True)\n",
        " \n",
        "# If you want the first axis to be on top:\n",
        "ax.set_theta_offset(pi/6)\n",
        "ax.set_theta_direction(1)\n",
        " \n",
        "# Draw one axe per variable + add labels labels yet\n",
        "plt.xticks(angles[:-1], categories)\n",
        " \n",
        "# Draw ylabels\n",
        "ax.set_rlabel_position(0)\n",
        "plt.yticks([10,25,50,75,100], [\"10\",\"25\",\"50\", \"75\", \"100\"], size=7)\n",
        "plt.ylim(0,100)\n",
        " \n",
        " \n",
        "# ------- PART 2: Add plots\n",
        " \n",
        "# Plot each individual = each line of the data\n",
        "# I don't do a loop, because plotting more than 3 groups makes the chart unreadable\n",
        " \n",
        "# Ind1\n",
        "values=df.loc[0].drop('Jogador').values.flatten().tolist()\n",
        "values += values[:1]\n",
        "ax.plot(angles, values, linewidth=1, linestyle='solid', label=\"Neymar\")\n",
        "ax.fill(angles, values, 'b', alpha=0.1)\n",
        " \n",
        "# Ind2\n",
        "values=df.loc[1].drop('Jogador').values.flatten().tolist()\n",
        "values += values[:1]\n",
        "ax.plot(angles, values, linewidth=1, linestyle='solid', label=\"Messi\")\n",
        "ax.fill(angles, values, 'r', alpha=0.1)\n",
        " \n",
        "# Add legend\n",
        "plt.legend(loc='upper right', bbox_to_anchor=(0, 0.1))\n"
      ],
      "execution_count": 170,
      "outputs": [
        {
          "output_type": "execute_result",
          "data": {
            "text/plain": [
              "<matplotlib.legend.Legend at 0x7f8d10600828>"
            ]
          },
          "metadata": {
            "tags": []
          },
          "execution_count": 170
        },
        {
          "output_type": "display_data",
          "data": {
            "image/png": "[encoded data removed]",
            "text/plain": [
              "<Figure size 432x288 with 1 Axes>"
            ]
          },
          "metadata": {
            "tags": []
          }
        }
      ]
    },
    {
      "cell_type": "markdown",
      "metadata": {
        "id": "iqN3UUWqbhFr",
        "colab_type": "text"
      },
      "source": [
        "# Ind4\n",
        "values=df.loc[2].drop('Jogador').values.flatten().tolist()\n",
        "values += values[:1]\n",
        "ax.plot(angles, values, linewidth=1, linestyle='solid', label=\"Ibrahimovich\")\n",
        "ax.fill(angles, values, 'o', alpha=0.1)"
      ]
    },
    {
      "cell_type": "markdown",
      "metadata": {
        "id": "Bqx2RRCMbvb5",
        "colab_type": "text"
      },
      "source": [
        "# Ind3\n",
        "values=df.loc[2].drop('Jogador').values.flatten().tolist()\n",
        "values += values[:1]\n",
        "ax.plot(angles, values, linewidth=1, linestyle='solid', label=\"C.Ronaldo\")\n",
        "ax.fill(angles, values, 'g', alpha=0.1)\n"
      ]
    },
    {
      "cell_type": "code",
      "metadata": {
        "id": "1oI-i5vabv6s",
        "colab_type": "code",
        "colab": {}
      },
      "source": [
        ""
      ],
      "execution_count": 0,
      "outputs": []
    }
  ]
}